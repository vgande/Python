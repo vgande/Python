{
 "cells": [
  {
   "cell_type": "code",
   "execution_count": 31,
   "id": "d87c2779",
   "metadata": {},
   "outputs": [
    {
     "name": "stdout",
     "output_type": "stream",
     "text": [
      "Pick a number1\n",
      "Wrong\n",
      "[' ', ' ', 'O']\n"
     ]
    }
   ],
   "source": [
    "def shuffle_list(mylist):\n",
    "    \n",
    "    from random import shuffle\n",
    "    \n",
    "    shuffle(mylist)\n",
    "    \n",
    "    return mylist\n",
    "\n",
    "def user_input():\n",
    "    \n",
    "    guess = ''\n",
    "    \n",
    "    while guess not in ['0','1','2']:\n",
    "        guess = input(\"Pick a number\")\n",
    "        \n",
    "    return int(guess)\n",
    "\n",
    "def check_guess(mylist,guess):\n",
    "    \n",
    "    if mylist[guess] == 'O':\n",
    "        print(\"Correct\")\n",
    "    else:\n",
    "        print(\"Wrong\")\n",
    "        print(mylist)\n",
    "        \n",
    "        \n",
    "mylist = [' ','O',' ']\n",
    "\n",
    "shuffledlist = shuffle_list(mylist)\n",
    "guessposition = user_input()\n",
    "\n",
    "check_guess(shuffledlist,guessposition)"
   ]
  }
 ],
 "metadata": {
  "kernelspec": {
   "display_name": "Python 3",
   "language": "python",
   "name": "python3"
  },
  "language_info": {
   "codemirror_mode": {
    "name": "ipython",
    "version": 3
   },
   "file_extension": ".py",
   "mimetype": "text/x-python",
   "name": "python",
   "nbconvert_exporter": "python",
   "pygments_lexer": "ipython3",
   "version": "3.8.8"
  }
 },
 "nbformat": 4,
 "nbformat_minor": 5
}
